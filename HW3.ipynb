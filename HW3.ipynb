{
 "cells": [
  {
   "cell_type": "code",
   "execution_count": 1,
   "metadata": {},
   "outputs": [],
   "source": [
    "import sys\n",
    "import warnings\n",
    "\n",
    "if not sys.warnoptions:\n",
    "    warnings.simplefilter(\"ignore\")"
   ]
  },
  {
   "cell_type": "code",
   "execution_count": 2,
   "metadata": {},
   "outputs": [],
   "source": [
    "import pandas as pd \n",
    "import os\n",
    "import numpy as np \n",
    "import time\n",
    "from copy import deepcopy\n",
    "import matplotlib.pyplot as plt \n",
    "from datetime import datetime\n",
    "from datetime import timedelta\n",
    "from scipy.optimize import minimize\n",
    "plt.style.use('seaborn')"
   ]
  },
  {
   "cell_type": "code",
   "execution_count": 3,
   "metadata": {},
   "outputs": [],
   "source": [
    "q2_data_dir = os.path.join(os.getcwd(),'SH600519\\\\')\n",
    "q2_data_list_dir = [q2_data_dir + data for data in os.listdir(q2_data_dir) if data.split('_')[0] == 'trade']"
   ]
  },
  {
   "cell_type": "code",
   "execution_count": 4,
   "metadata": {},
   "outputs": [],
   "source": [
    "def generate_q2_dataframe(df_lst):\n",
    "    df = pd.read_csv(df_lst[0])\n",
    "    df['tmp'] = df.date.apply(str) + df.time.apply(str)\n",
    "    df['tmp'] = pd.to_datetime(df.tmp, format='%Y%m%d%H%M%f')\n",
    "    df['timestamp'] = df.tmp.apply(lambda x: x.value)/(10e5)\n",
    "    df.timestamp = df.timestamp - df.timestamp[0]\n",
    "    df.timestamp = np.where(df.timestamp > 10000, df.timestamp - 5400, df.timestamp)\n",
    "\n",
    "    for i in range(1, len(df_lst)):\n",
    "        df2 = pd.read_csv(df_lst[i])\n",
    "        df2['tmp'] = df2.date.apply(str) + df2.time.apply(str)\n",
    "        df2['tmp'] = pd.to_datetime(df2.tmp, format='%Y%m%d%H%M%f')\n",
    "        df2['timestamp'] = df2.tmp.apply(lambda x: x.value)/(10e5)\n",
    "        df2.timestamp = df2.timestamp - df2.timestamp[0]\n",
    "        df2.timestamp = np.where(df2.timestamp > 10000, df2.timestamp - 5400, df2.timestamp)\n",
    "        df2.timestamp = df2.timestamp - df2.timestamp.iloc[0] + df.timestamp.iloc[-1]\n",
    "        df = pd.concat([df, df2])\n",
    "    \n",
    "    df['BS'] = np.where(df.BS == 'B',1,0) + np.where(df.BS == 'S',-1,0)\n",
    "    df['is_trade'] = np.where((df.BS == 1) | (df.BS == -1), 1, 0 )\n",
    "    df.time = (df.timestamp/1000).apply(datetime.fromtimestamp)\n",
    "    df = df.set_index(['time'])\n",
    "    df = df.sort_index()\n",
    "    df['5min_trade_count'] = df.ntrade.rolling('300s').count()\n",
    "    df['5min_cumul_sign'] = df.BS.rolling('300s').sum()\n",
    "    df['5min_prob_buy'] = (df['5min_trade_count'] + df['5min_cumul_sign'])/(2*df['5min_trade_count'])\n",
    "    df = df[df.index > (df.index[0] + timedelta(minutes=5))]\n",
    "    return(df.drop(['Unnamed: 0','tmp','timestamp','id_trade','date','sign'], axis=1))\n",
    "\n"
   ]
  },
  {
   "cell_type": "code",
   "execution_count": 5,
   "metadata": {},
   "outputs": [],
   "source": [
    "df = generate_q2_dataframe(q2_data_list_dir)"
   ]
  },
  {
   "cell_type": "code",
   "execution_count": 6,
   "metadata": {},
   "outputs": [],
   "source": [
    "def MLE_estimator_lambda(df, s):\n",
    "    N = df['5min_trade_count'].mean()\n",
    "    return(N/s)\n",
    "\n",
    "def MLE_estimator_beta(df):\n",
    "    n = len(df.ntrade)\n",
    "    sum_xi = df.ntrade.sum()\n",
    "    return(sum_xi/n)\n",
    "\n",
    "def corr_estimate(df):\n",
    "    tmp = df[df.BS != 0]\n",
    "    return tmp.BS.corr(tmp.BS.shift(1))\n",
    "\n",
    "def prob_buy_estimate(df):\n",
    "    N = df.is_trade.sum()\n",
    "    k = df.BS.sum()\n",
    "    return((N+k)/(2*N)) * (1+len(df[df.is_trade == 0])/len(df))\n",
    "\n",
    "def variable_pred_stats():\n",
    "    print('Estimation of parameters')\n",
    "    print('Lambda = {:.2f}'.format(MLE_estimator_lambda(df,300)))\n",
    "    print('Beta = {:.2f}'.format(MLE_estimator_beta(df)))\n",
    "    print('Corr = {:.2f}'.format(corr_estimate(df)))\n",
    "    print('p = {:.2f}%'.format(100*prob_buy_estimate(df)))"
   ]
  },
  {
   "cell_type": "code",
   "execution_count": 7,
   "metadata": {},
   "outputs": [
    {
     "name": "stdout",
     "output_type": "stream",
     "text": [
      "Estimation of parameters\n",
      "Lambda = 1.24\n",
      "Beta = 354.27\n",
      "Corr = 0.56\n",
      "p = 49.27%\n"
     ]
    }
   ],
   "source": [
    "variable_pred_stats()"
   ]
  },
  {
   "cell_type": "code",
   "execution_count": 8,
   "metadata": {},
   "outputs": [],
   "source": [
    "q3_data_dir = os.path.join(os.getcwd(),'SH601398\\\\')\n",
    "q3_data_list_dir_v1 = [q2_data_dir + data for data in os.listdir(q2_data_dir) if data.split('_')[0] == 'quote']\n",
    "q3_data_list_dir_v2 = [q3_data_dir + data for data in os.listdir(q3_data_dir) if data.split('_')[0] == 'quote']"
   ]
  },
  {
   "cell_type": "code",
   "execution_count": 9,
   "metadata": {},
   "outputs": [],
   "source": [
    "def generate_q3_dataframe(df_list):\n",
    "    df = pd.read_csv(df_list[0])\n",
    "    df = df[['price','BS','BidPrice1','AskPrice1']]\n",
    "    df['MidPrice1'] = (df.BidPrice1 + df.AskPrice1)/2\n",
    "    df = df[df.price > 0]\n",
    "    \n",
    "    for i in range(1, len(df_list)):\n",
    "        df2 = pd.read_csv(df_list[i])\n",
    "        df2 = df2[['price','BS','BidPrice1','AskPrice1']]\n",
    "        df2['MidPrice1'] = (df2.BidPrice1 + df2.AskPrice1)/2\n",
    "        df2 = df2[df2.price > 0]\n",
    "        df = pd.concat([df,df2])\n",
    "        \n",
    "    return df[(df.BS == 'B') | (df.BS =='S')]"
   ]
  },
  {
   "cell_type": "code",
   "execution_count": 10,
   "metadata": {},
   "outputs": [],
   "source": [
    "df2 = generate_q3_dataframe(q3_data_list_dir_v1)"
   ]
  },
  {
   "cell_type": "code",
   "execution_count": 11,
   "metadata": {},
   "outputs": [],
   "source": [
    "df3 = generate_q3_dataframe(q3_data_list_dir_v2)"
   ]
  },
  {
   "cell_type": "code",
   "execution_count": 12,
   "metadata": {},
   "outputs": [],
   "source": [
    "def add_prediction_to_df(df):\n",
    "    df3 = df.copy()\n",
    "    df3['BS'] = np.where(df3.BS == 'B',1,0) + np.where(df3.BS == 'S',-1,0)\n",
    "    df3['PredSide'] = np.where(df3.price > df3.MidPrice1,1,0) + np.where(df3.price < df3.MidPrice1,-1,0)\n",
    "    return df3"
   ]
  },
  {
   "cell_type": "code",
   "execution_count": 13,
   "metadata": {},
   "outputs": [],
   "source": [
    "df2 = add_prediction_to_df(df2)"
   ]
  },
  {
   "cell_type": "code",
   "execution_count": 14,
   "metadata": {},
   "outputs": [],
   "source": [
    "df3 = add_prediction_to_df(df3)"
   ]
  },
  {
   "cell_type": "code",
   "execution_count": 15,
   "metadata": {},
   "outputs": [],
   "source": [
    "def pct_same_pred(df):\n",
    "    return len(df[df.PredSide == df.BS])/len(df)\n",
    "\n",
    "def pct_same_buy(df):\n",
    "    return(len(df[(df.PredSide == df.BS) & (df.PredSide == 1)])/len(df[df.BS==1]))\n",
    "\n",
    "def pct_same_sell(df):\n",
    "    return(len(df[(df.PredSide == df.BS) & (df.PredSide == -1)])/len(df[df.BS==-1]))\n",
    "\n",
    "def pct_pred_zero(df):\n",
    "    return(len(df[df.PredSide == 0])/len(df))\n",
    "\n",
    "def pct_pred_zero_buy(df):\n",
    "    return(len(df[(df.PredSide == 0) & (df.BS == 1)])/len(df[df.PredSide ==0]))\n",
    "\n",
    "def pct_pred_zero_sell(df):\n",
    "    return(len(df[(df.PredSide == 0) & (df.BS == -1)])/len(df[df.PredSide ==0]))\n",
    "\n",
    "\n",
    "def print_statistics(df, text):\n",
    "    print('Statistics for Data in {}'.format(text))\n",
    "    print(\"Percentage Same Prediction: {:.2f}%\".format(100*pct_same_pred(df)))\n",
    "    print(\"Percentage Same Buy Prediction: {:.2f}%\".format(100*pct_same_buy(df)))\n",
    "    print(\"Percentage Same Sell Prediction: {:.2f}%\".format(100*pct_same_sell(df)))\n",
    "    print(\"Percentage Prediction 0: {:.2f}%\".format(100*pct_pred_zero(df)))\n",
    "    print(\"Percentage Prediction 0 is Buy: {:.2f}%\".format(100*pct_pred_zero_buy(df)))\n",
    "    print(\"Percentage Prediction 0 is Sell: {:.2f}%\".format(100*pct_pred_zero_sell(df)))"
   ]
  },
  {
   "cell_type": "code",
   "execution_count": 16,
   "metadata": {},
   "outputs": [
    {
     "name": "stdout",
     "output_type": "stream",
     "text": [
      "Statistics for Data in SH60051\n",
      "Percentage Same Prediction: 79.10%\n",
      "Percentage Same Buy Prediction: 79.51%\n",
      "Percentage Same Sell Prediction: 78.68%\n",
      "Percentage Prediction 0: 0.68%\n",
      "Percentage Prediction 0 is Buy: 50.82%\n",
      "Percentage Prediction 0 is Sell: 49.18%\n"
     ]
    }
   ],
   "source": [
    "print_statistics(df2, 'SH60051')"
   ]
  },
  {
   "cell_type": "code",
   "execution_count": 17,
   "metadata": {},
   "outputs": [
    {
     "name": "stdout",
     "output_type": "stream",
     "text": [
      "Statistics for Data in SH601398\n",
      "Percentage Same Prediction: 98.34%\n",
      "Percentage Same Buy Prediction: 98.29%\n",
      "Percentage Same Sell Prediction: 98.37%\n",
      "Percentage Prediction 0: 0.02%\n",
      "Percentage Prediction 0 is Buy: 50.41%\n",
      "Percentage Prediction 0 is Sell: 49.59%\n"
     ]
    }
   ],
   "source": [
    "print_statistics(df3, 'SH601398')"
   ]
  },
  {
   "cell_type": "code",
   "execution_count": 18,
   "metadata": {},
   "outputs": [],
   "source": [
    "def generate_q4_dataframe(df_lst):\n",
    "    df = pd.read_csv(df_lst[0])\n",
    "    df['tmp'] = df.date.apply(str) + df.time.apply(str)\n",
    "    df['tmp'] = pd.to_datetime(df.tmp, format='%Y%m%d%H%M%f')\n",
    "    df['timestamp'] = df.tmp.apply(lambda x: x.value)/(10e5)\n",
    "    df.timestamp = df.timestamp - df.timestamp[0]\n",
    "    df.timestamp = np.where(df.timestamp > 10000, df.timestamp - 5400, df.timestamp)\n",
    "\n",
    "    for i in range(1, len(df_lst)):\n",
    "        df2 = pd.read_csv(df_lst[i])\n",
    "        df2 = df2[df2.time >0]\n",
    "        df2['tmp'] = df2.date.apply(str) + df2.time.apply(str)\n",
    "        df2['tmp'] = pd.to_datetime(df2.tmp, format='%Y%m%d%H%M%f')\n",
    "        \n",
    "        df2['timestamp'] = df2.tmp.apply(lambda x: x.value)/(10e5)\n",
    "        try:\n",
    "            df2.timestamp = df2.timestamp - df2.timestamp.iloc[0]\n",
    "        except KeyError:\n",
    "            print(df2.timestamp)\n",
    "            break\n",
    "        df2.timestamp = np.where(df2.timestamp > 10000, df2.timestamp - 5400, df2.timestamp)\n",
    "        df2.timestamp = df2.timestamp - df2.timestamp.iloc[0] + df.timestamp.iloc[-1]\n",
    "        df = pd.concat([df, df2])\n",
    "        \n",
    "    df['BS'] = np.where(df.BS == 'B',1,0) + np.where(df.BS == 'S',-1,0)\n",
    "    df['is_trade'] = np.where((df.BS == 1) | (df.BS == -1), 1, 0 )\n",
    "    \n",
    "    df['MidQuote'] = (df['BidPrice1'] * df['AskVolume1'] + df['AskPrice1']*df['BidVolume1'])/(df['AskVolume1']+df['BidVolume1'])\n",
    "    df.time = (df.timestamp/1000).apply(datetime.fromtimestamp)\n",
    "    df = df.set_index(['time'])\n",
    "    df = df.sort_index()\n",
    "    meanVolume = df[df.volume > 0].volume.mean()\n",
    "    df = df[df.volume > 0]\n",
    "    df['SignVolume'] = df.BS * df.volume\n",
    "    \n",
    "    df['5min_ret'] = df.MidQuote.rolling('300s').apply(lambda x : (x[-1]-x[0])/x[0])\n",
    "    df['1min_ret'] = df.MidQuote.rolling('60s').apply(lambda x : (x[-1]-x[0])/x[0])\n",
    "    df['5min_imb'] = df.SignVolume.rolling('300s').sum()/meanVolume\n",
    "    df['1min_imb'] = df.SignVolume.rolling('60s').sum()/meanVolume\n",
    "    df['5min_ind'] = np.where(df['5min_imb'] > 0, 1, -1)\n",
    "    df['1min_ind'] = np.where(df['1min_imb'] > 0, 1, -1)\n",
    "    df = df[(df['5min_ret'] <1) & (df['5min_ret'] > -1)]\n",
    "    df = df[(df['1min_ret'] <1) & (df['1min_ret'] > -1)]\n",
    "    df = df[['5min_ret','1min_ret','5min_imb','1min_imb','5min_ind','1min_ind','SignVolume','MidQuote','BS','is_trade']]\n",
    "    df = df[df.index > (df.index[0] + timedelta(minutes=5))]\n",
    "    return df.dropna()\n",
    "    "
   ]
  },
  {
   "cell_type": "code",
   "execution_count": 19,
   "metadata": {},
   "outputs": [],
   "source": [
    "df4 = generate_q4_dataframe(q3_data_list_dir_v1)"
   ]
  },
  {
   "cell_type": "code",
   "execution_count": 20,
   "metadata": {},
   "outputs": [],
   "source": [
    "df5 = generate_q4_dataframe(q3_data_list_dir_v2)"
   ]
  },
  {
   "cell_type": "code",
   "execution_count": 21,
   "metadata": {},
   "outputs": [],
   "source": [
    "def mse(parameters, df, window, ind):\n",
    "    \n",
    "    if window == 1:\n",
    "        df = df[df['1min_ind'] == ind]\n",
    "        y = df['1min_ret'].values\n",
    "        std = y.std()\n",
    "        x = df['1min_imb'].abs().values\n",
    "    if window == 5:\n",
    "        df = df[df['5min_ind'] == ind]\n",
    "        y = df['5min_ret'].values\n",
    "        std = y.std()\n",
    "        x = df['5min_imb'].abs().values\n",
    "        \n",
    "    a = parameters[0]\n",
    "    b = parameters[1]\n",
    "    y_pred = a*std*(x**b)\n",
    "    \n",
    "    return sum((y-y_pred)**2)"
   ]
  },
  {
   "cell_type": "code",
   "execution_count": 22,
   "metadata": {},
   "outputs": [],
   "source": [
    "def optimize_parameters(df, window ,ind):\n",
    "    x0 = [1,1]\n",
    "    t1 = time.time()\n",
    "    res = minimize(mse, x0, args = (df, window,ind), method='SLSQP', options={'disp': False})\n",
    "    print('Optimization Runtime: {:.3f}s'.format(time.time() - t1))\n",
    "    return(res.x)"
   ]
  },
  {
   "cell_type": "code",
   "execution_count": 23,
   "metadata": {},
   "outputs": [
    {
     "name": "stdout",
     "output_type": "stream",
     "text": [
      "Optimization Runtime: 2.345s\n",
      "Optimization Runtime: 5.818s\n",
      "Optimization Runtime: 10.887s\n",
      "Optimization Runtime: 10.788s\n",
      "Optimization Runtime: 7.491s\n",
      "Optimization Runtime: 2.453s\n",
      "Optimization Runtime: 3.727s\n",
      "Optimization Runtime: 3.974s\n"
     ]
    }
   ],
   "source": [
    "df4_1_pos_params = optimize_parameters(df4,1,1)\n",
    "df4_1_neg_params = optimize_parameters(df4,1,-1)\n",
    "df4_5_pos_params = optimize_parameters(df4,5,1)\n",
    "df4_5_neg_params = optimize_parameters(df4,5,-1)\n",
    "\n",
    "df5_1_pos_params = optimize_parameters(df5,1,1)\n",
    "df5_1_neg_params = optimize_parameters(df5,1,-1)\n",
    "df5_5_pos_params = optimize_parameters(df5,5,1)\n",
    "df5_5_neg_params = optimize_parameters(df5,5,-1)"
   ]
  },
  {
   "cell_type": "code",
   "execution_count": 24,
   "metadata": {},
   "outputs": [],
   "source": [
    "def print_params():\n",
    "    print('Statistics for Data in SH600519\\n')\n",
    "    print(' /**********   1min Window   **********\\ ')\n",
    "    print('Positive: beta = {:.4f}, gamma = {:.4f}'.format(df4_1_pos_params[0], df4_1_pos_params[1]))\n",
    "    print('Negative: beta = {:.4f}, gamma = {:.4f} \\n'.format(df4_1_neg_params[0], df4_1_neg_params[1]))\n",
    "    \n",
    "    print(' /**********   5min Window   **********\\ ')\n",
    "    print('Positive: beta = {:.4f}, gamma = {:.4f}'.format(df4_5_pos_params[0], df4_5_pos_params[1]))\n",
    "    print('Negative: beta = {:.4f}, gamma = {:.4f} \\n \\n \\n'.format(df4_5_neg_params[0], df4_5_neg_params[1]))\n",
    "    \n",
    "    print('Statistics for Data in SH601398\\n')\n",
    "    print(' /**********   1min Window   **********\\ ')\n",
    "    print('Positive: beta = {:.4f}, gamma = {:.4f}'.format(df5_1_pos_params[0], df5_1_pos_params[1]))\n",
    "    print('Negative: beta = {:.4f}, gamma = {:.4f} \\n'.format(df5_1_neg_params[0], df5_1_neg_params[1]))\n",
    "    \n",
    "    print(' /**********   5min Window   **********\\ ')\n",
    "    print('Positive: beta = {:.4f}, gamma = {:.4f}'.format(df5_5_pos_params[0], df5_5_pos_params[1]))\n",
    "    print('Negative: beta = {:.4f}, gamma = {:.4f} \\n'.format(df5_5_neg_params[0], df5_5_neg_params[1]))"
   ]
  },
  {
   "cell_type": "code",
   "execution_count": 25,
   "metadata": {},
   "outputs": [
    {
     "name": "stdout",
     "output_type": "stream",
     "text": [
      "Statistics for Data in SH600519\n",
      "\n",
      " /**********   1min Window   **********\\ \n",
      "Positive: beta = 0.1736, gamma = 0.4040\n",
      "Negative: beta = -0.0686, gamma = 0.7834 \n",
      "\n",
      " /**********   5min Window   **********\\ \n",
      "Positive: beta = 0.1006, gamma = 0.5382\n",
      "Negative: beta = -0.0764, gamma = 0.6664 \n",
      " \n",
      " \n",
      "\n",
      "Statistics for Data in SH601398\n",
      "\n",
      " /**********   1min Window   **********\\ \n",
      "Positive: beta = 0.0104, gamma = 1.1310\n",
      "Negative: beta = -0.0663, gamma = 0.6456 \n",
      "\n",
      " /**********   5min Window   **********\\ \n",
      "Positive: beta = 0.0268, gamma = 0.8052\n",
      "Negative: beta = -0.0062, gamma = 1.0914 \n",
      "\n"
     ]
    }
   ],
   "source": [
    "print_params()"
   ]
  }
 ],
 "metadata": {
  "kernelspec": {
   "display_name": "Python 3",
   "language": "python",
   "name": "python3"
  },
  "language_info": {
   "codemirror_mode": {
    "name": "ipython",
    "version": 3
   },
   "file_extension": ".py",
   "mimetype": "text/x-python",
   "name": "python",
   "nbconvert_exporter": "python",
   "pygments_lexer": "ipython3",
   "version": "3.8.10"
  }
 },
 "nbformat": 4,
 "nbformat_minor": 4
}
